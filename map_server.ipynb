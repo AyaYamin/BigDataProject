{
 "cells": [
  {
   "cell_type": "code",
   "execution_count": null,
   "metadata": {},
   "outputs": [],
   "source": [
    "import http.server\n",
    "import socketserver"
   ]
  },
  {
   "cell_type": "code",
   "execution_count": null,
   "metadata": {},
   "outputs": [],
   "source": [
    "class RequestsHandler(http.server.SimpleHTTPRequestHandler):\n",
    "  \"\"\"\n",
    "  Handles http requests\n",
    "  \"\"\"\n",
    "  def do_GET(self):\n",
    "    if self.path == '/':\n",
    "      self.path = 'index_mp.html'\n",
    "    return http.server.SimpleHTTPRequestHandler.do_GET(self)"
   ]
  },
  {
   "cell_type": "code",
   "execution_count": null,
   "metadata": {},
   "outputs": [],
   "source": [
    "handler_object = RequestsHandler\n",
    "PORT = 8006\n",
    "my_server = socketserver.TCPServer((\"\", PORT), handler_object)\n",
    "# Start the server\n",
    "print(\"Server started at localhost:\" + str(PORT))\n",
    "my_server.serve_forever()"
   ]
  },
  {
   "cell_type": "code",
   "execution_count": null,
   "metadata": {},
   "outputs": [],
   "source": []
  }
 ],
 "metadata": {
  "kernelspec": {
   "display_name": "Python 3",
   "language": "python",
   "name": "python3"
  },
  "language_info": {
   "codemirror_mode": {
    "name": "ipython",
    "version": 3
   },
   "file_extension": ".py",
   "mimetype": "text/x-python",
   "name": "python",
   "nbconvert_exporter": "python",
   "pygments_lexer": "ipython3",
   "version": "3.8.5"
  }
 },
 "nbformat": 4,
 "nbformat_minor": 4
}
